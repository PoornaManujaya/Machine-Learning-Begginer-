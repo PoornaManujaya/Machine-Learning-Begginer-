{
  "nbformat": 4,
  "nbformat_minor": 0,
  "metadata": {
    "colab": {
      "provenance": [],
      "authorship_tag": "ABX9TyMPc/wdFL1tnijtBHLDUihG",
      "include_colab_link": true
    },
    "kernelspec": {
      "name": "python3",
      "display_name": "Python 3"
    },
    "language_info": {
      "name": "python"
    }
  },
  "cells": [
    {
      "cell_type": "markdown",
      "metadata": {
        "id": "view-in-github",
        "colab_type": "text"
      },
      "source": [
        "<a href=\"https://colab.research.google.com/github/PoornaManujaya/Machine-Learning-Begginer-/blob/main/Scholarship_Exam_Results_Prediction.ipynb\" target=\"_parent\"><img src=\"https://colab.research.google.com/assets/colab-badge.svg\" alt=\"Open In Colab\"/></a>"
      ]
    },
    {
      "cell_type": "markdown",
      "source": [
        "# Schorlaship Exam Results Classifier\n",
        "Assume that you want to help all grade 5 scholarship students in your school to prepare and pass the exam. So you want to find out when they're in grade 4 if they are going to pass the exam or not so that you can help them according to their respective need. Those who are going to pass do not need a lot of help, and the students who are in the maybe category would need some help and the students who are going to fail, need a lot of help!\n",
        "\n",
        "In this assignment, you are required to build a classification model to separate (classify) a given set of students to find out if they are going to pass the grade-5 scholarship exam based on four other subjects (Maths, Sinhala, English, History) they take in grade 4.\n",
        "\n",
        "You are required to build the Machine Learning model based on data that we have collected from the students who got their scholarship exam results.  This data includes marks obtained by 120 students for the 4 subjects in grade-4 and also the respective categorization into pass, maybe, and fail based on the marks they got for the scholarship exam.\n",
        "\n",
        "Once you have built the model you are required to submit the classification for 30 students whose classification (pass, maybe, fail) is not given to you. You are only given the marks for the four subjects and required to classify them based on the subject marks. This is what you will have to do if you want to use this system to help the students in grade 4 now! You know their grade-4 marks but want to use ML to see if they are going to pass. maybe or fail the scholarship exam when they sit for the exam next year.\n",
        "\n",
        "A sample answer submission is given in the answer box. If you check it you will find that you will get 30% correct. If you manually change the answer you might be able to improve the answer quality (correct %). But rather than doing that, we want you to use an ML algorithm to get you the answer!\n",
        "\n",
        "You can use the code given in the trinket or you can write your own code in your own python environment, or use a Jupyter notebook or Google collab to do this. Once you get the answer to the solution you need to cut and paste the list to the answer box and check to see how good your solution is.\n",
        "\n",
        "Note that you have two steps to this question. A step to building a Machine Learning Model with the training data and the step to classify the given new set of students as the test dataset. Both data sets are given in the trinket also."
      ],
      "metadata": {
        "id": "M7ZenAzCqlWB"
      }
    },
    {
      "cell_type": "code",
      "source": [
        "# IMPORTING LIBRARIES ***********************************************************\n",
        "import pandas as pd\n",
        "import matplotlib.pyplot as plt \n",
        "import seaborn as sns\n",
        "sns.set_palette('husl')\n",
        "\n",
        "from sklearn.model_selection import train_test_split\n",
        "from sklearn.model_selection import cross_val_score\n",
        "from sklearn.model_selection import StratifiedKFold\n",
        "from sklearn.metrics import classification_report\n",
        "from sklearn.metrics import accuracy_score\n",
        "\n",
        "from sklearn.svm import SVC"
      ],
      "metadata": {
        "id": "pJtpBZ-lqmaM"
      },
      "execution_count": 1,
      "outputs": []
    },
    {
      "cell_type": "code",
      "source": [
        "# Load The Training and Test Data\n",
        "train_df = pd.read_csv('student_marks_train.csv')\n",
        "result = train_df.info()\n",
        "print(\"Details of the Train DataFrame:\")\n",
        "print(result)\n",
        "\n",
        "test_df = pd.read_csv('student_marks_test.csv')\n",
        "result = test_df.info()\n",
        "print(\"Details of the Test DataFrame:\")\n",
        "print(result)"
      ],
      "metadata": {
        "colab": {
          "base_uri": "https://localhost:8080/"
        },
        "id": "yHgxt9UqqxZf",
        "outputId": "a6b2354b-94ba-4e92-f227-e6d5cc337e11"
      },
      "execution_count": 3,
      "outputs": [
        {
          "output_type": "stream",
          "name": "stdout",
          "text": [
            "<class 'pandas.core.frame.DataFrame'>\n",
            "RangeIndex: 120 entries, 0 to 119\n",
            "Data columns (total 5 columns):\n",
            " #   Column       Non-Null Count  Dtype \n",
            "---  ------       --------------  ----- \n",
            " 0   maths        120 non-null    int64 \n",
            " 1   sinhala      120 non-null    int64 \n",
            " 2   english      120 non-null    int64 \n",
            " 3   history      120 non-null    int64 \n",
            " 4   class-label  120 non-null    object\n",
            "dtypes: int64(4), object(1)\n",
            "memory usage: 4.8+ KB\n",
            "Details of the Train DataFrame:\n",
            "None\n",
            "<class 'pandas.core.frame.DataFrame'>\n",
            "RangeIndex: 30 entries, 0 to 29\n",
            "Data columns (total 4 columns):\n",
            " #   Column   Non-Null Count  Dtype\n",
            "---  ------   --------------  -----\n",
            " 0   maths    30 non-null     int64\n",
            " 1   sinhala  30 non-null     int64\n",
            " 2   english  30 non-null     int64\n",
            " 3   history  30 non-null     int64\n",
            "dtypes: int64(4)\n",
            "memory usage: 1.1 KB\n",
            "Details of the Test DataFrame:\n",
            "None\n"
          ]
        }
      ]
    },
    {
      "cell_type": "code",
      "source": [
        "# PRE-PROCESS the data to see if you can improve the final classification**********\n",
        "\n",
        "\n",
        "# SPLIT taining data to test ML model *********************************************\n",
        "# Drop the column that contains the class labels\n",
        "X = train_df.drop(['class-label'], axis=1)\n",
        "y = train_df['class-label']\n",
        "print(f'X shape: {X.shape} | y shape: {y.shape} ')"
      ],
      "metadata": {
        "colab": {
          "base_uri": "https://localhost:8080/"
        },
        "id": "yQo2Um_Wq5vA",
        "outputId": "72cb07ce-054e-4be2-e781-784c3d22ff53"
      },
      "execution_count": 4,
      "outputs": [
        {
          "output_type": "stream",
          "name": "stdout",
          "text": [
            "X shape: (120, 4) | y shape: (120,) \n"
          ]
        }
      ]
    },
    {
      "cell_type": "code",
      "source": [
        "\n",
        "# Split: 80% for training. 20% for testing\n",
        "# We have to split the given training data to test since the test data given does not have class-labels\n",
        "from sklearn.model_selection import train_test_split\n",
        "X_train, X_test, y_train, y_test = train_test_split(\n",
        "                                                    X, \n",
        "                                                    y, \n",
        "                                                    test_size=0.20, \n",
        "                                                    random_state=1)"
      ],
      "metadata": {
        "id": "Vzur2PGprpz5"
      },
      "execution_count": 9,
      "outputs": []
    },
    {
      "cell_type": "code",
      "source": [
        "# BUILD and TRAIN ML model *******************************************************\n",
        "# Support vector machine algorithm for ML\n",
        "from sklearn.svm import SVC\n",
        "svn = SVC()\n",
        "svn.fit(X_train, y_train)"
      ],
      "metadata": {
        "colab": {
          "base_uri": "https://localhost:8080/",
          "height": 74
        },
        "id": "ylj78Z8kruoV",
        "outputId": "df991119-fdb3-404e-d9ab-17210e411248"
      },
      "execution_count": 6,
      "outputs": [
        {
          "output_type": "execute_result",
          "data": {
            "text/plain": [
              "SVC()"
            ],
            "text/html": [
              "<style>#sk-container-id-1 {color: black;background-color: white;}#sk-container-id-1 pre{padding: 0;}#sk-container-id-1 div.sk-toggleable {background-color: white;}#sk-container-id-1 label.sk-toggleable__label {cursor: pointer;display: block;width: 100%;margin-bottom: 0;padding: 0.3em;box-sizing: border-box;text-align: center;}#sk-container-id-1 label.sk-toggleable__label-arrow:before {content: \"▸\";float: left;margin-right: 0.25em;color: #696969;}#sk-container-id-1 label.sk-toggleable__label-arrow:hover:before {color: black;}#sk-container-id-1 div.sk-estimator:hover label.sk-toggleable__label-arrow:before {color: black;}#sk-container-id-1 div.sk-toggleable__content {max-height: 0;max-width: 0;overflow: hidden;text-align: left;background-color: #f0f8ff;}#sk-container-id-1 div.sk-toggleable__content pre {margin: 0.2em;color: black;border-radius: 0.25em;background-color: #f0f8ff;}#sk-container-id-1 input.sk-toggleable__control:checked~div.sk-toggleable__content {max-height: 200px;max-width: 100%;overflow: auto;}#sk-container-id-1 input.sk-toggleable__control:checked~label.sk-toggleable__label-arrow:before {content: \"▾\";}#sk-container-id-1 div.sk-estimator input.sk-toggleable__control:checked~label.sk-toggleable__label {background-color: #d4ebff;}#sk-container-id-1 div.sk-label input.sk-toggleable__control:checked~label.sk-toggleable__label {background-color: #d4ebff;}#sk-container-id-1 input.sk-hidden--visually {border: 0;clip: rect(1px 1px 1px 1px);clip: rect(1px, 1px, 1px, 1px);height: 1px;margin: -1px;overflow: hidden;padding: 0;position: absolute;width: 1px;}#sk-container-id-1 div.sk-estimator {font-family: monospace;background-color: #f0f8ff;border: 1px dotted black;border-radius: 0.25em;box-sizing: border-box;margin-bottom: 0.5em;}#sk-container-id-1 div.sk-estimator:hover {background-color: #d4ebff;}#sk-container-id-1 div.sk-parallel-item::after {content: \"\";width: 100%;border-bottom: 1px solid gray;flex-grow: 1;}#sk-container-id-1 div.sk-label:hover label.sk-toggleable__label {background-color: #d4ebff;}#sk-container-id-1 div.sk-serial::before {content: \"\";position: absolute;border-left: 1px solid gray;box-sizing: border-box;top: 0;bottom: 0;left: 50%;z-index: 0;}#sk-container-id-1 div.sk-serial {display: flex;flex-direction: column;align-items: center;background-color: white;padding-right: 0.2em;padding-left: 0.2em;position: relative;}#sk-container-id-1 div.sk-item {position: relative;z-index: 1;}#sk-container-id-1 div.sk-parallel {display: flex;align-items: stretch;justify-content: center;background-color: white;position: relative;}#sk-container-id-1 div.sk-item::before, #sk-container-id-1 div.sk-parallel-item::before {content: \"\";position: absolute;border-left: 1px solid gray;box-sizing: border-box;top: 0;bottom: 0;left: 50%;z-index: -1;}#sk-container-id-1 div.sk-parallel-item {display: flex;flex-direction: column;z-index: 1;position: relative;background-color: white;}#sk-container-id-1 div.sk-parallel-item:first-child::after {align-self: flex-end;width: 50%;}#sk-container-id-1 div.sk-parallel-item:last-child::after {align-self: flex-start;width: 50%;}#sk-container-id-1 div.sk-parallel-item:only-child::after {width: 0;}#sk-container-id-1 div.sk-dashed-wrapped {border: 1px dashed gray;margin: 0 0.4em 0.5em 0.4em;box-sizing: border-box;padding-bottom: 0.4em;background-color: white;}#sk-container-id-1 div.sk-label label {font-family: monospace;font-weight: bold;display: inline-block;line-height: 1.2em;}#sk-container-id-1 div.sk-label-container {text-align: center;}#sk-container-id-1 div.sk-container {/* jupyter's `normalize.less` sets `[hidden] { display: none; }` but bootstrap.min.css set `[hidden] { display: none !important; }` so we also need the `!important` here to be able to override the default hidden behavior on the sphinx rendered scikit-learn.org. See: https://github.com/scikit-learn/scikit-learn/issues/21755 */display: inline-block !important;position: relative;}#sk-container-id-1 div.sk-text-repr-fallback {display: none;}</style><div id=\"sk-container-id-1\" class=\"sk-top-container\"><div class=\"sk-text-repr-fallback\"><pre>SVC()</pre><b>In a Jupyter environment, please rerun this cell to show the HTML representation or trust the notebook. <br />On GitHub, the HTML representation is unable to render, please try loading this page with nbviewer.org.</b></div><div class=\"sk-container\" hidden><div class=\"sk-item\"><div class=\"sk-estimator sk-toggleable\"><input class=\"sk-toggleable__control sk-hidden--visually\" id=\"sk-estimator-id-1\" type=\"checkbox\" checked><label for=\"sk-estimator-id-1\" class=\"sk-toggleable__label sk-toggleable__label-arrow\">SVC</label><div class=\"sk-toggleable__content\"><pre>SVC()</pre></div></div></div></div></div>"
            ]
          },
          "metadata": {},
          "execution_count": 6
        }
      ]
    },
    {
      "cell_type": "code",
      "source": [
        "# Model evaluation\n",
        "# Check predictions of the test dataset that we created\n",
        "predictions = svn.predict(X_test)\n",
        "# Calculate the accuracy\n",
        "from sklearn.metrics import accuracy_score\n",
        "print(\"Current Accuracy =\", accuracy_score(y_test, predictions))"
      ],
      "metadata": {
        "colab": {
          "base_uri": "https://localhost:8080/"
        },
        "id": "blc2NZXbrysz",
        "outputId": "ad9fdd61-f2c3-4ac0-83e6-bd498d118869"
      },
      "execution_count": 7,
      "outputs": [
        {
          "output_type": "stream",
          "name": "stdout",
          "text": [
            "Current Accuracy = 0.9583333333333334\n"
          ]
        }
      ]
    },
    {
      "cell_type": "code",
      "source": [
        "# TEST the class labels for the given Test set ***********************************\n",
        "# Now Predict the given test set using the ML model that we created\n",
        "test_labels = (svn.predict(test_df))\n",
        "print(\"------CLASSIFICATION RESLUTS START------\")\n",
        "for i in range(len(test_labels)):\n",
        "  print(test_labels[i])\n",
        "print(\"------CLASSIFICATION RESLUTS END------\")\n",
        "\n",
        "# You can cut and paste the output to the answer box and click Check to see \n",
        "# how good your ML model is working on the new testset where you do not know the class-lables\n",
        "# Try to see if you can get it 100% (1.0)"
      ],
      "metadata": {
        "colab": {
          "base_uri": "https://localhost:8080/"
        },
        "id": "vpjnj601r4Dt",
        "outputId": "1c726bdc-3af2-4e57-b9f6-72ffa7108260"
      },
      "execution_count": 8,
      "outputs": [
        {
          "output_type": "stream",
          "name": "stdout",
          "text": [
            "------CLASSIFICATION RESLUTS START------\n",
            "fail\n",
            "pass\n",
            "fail\n",
            "maybe\n",
            "pass\n",
            "pass\n",
            "pass\n",
            "maybe\n",
            "fail\n",
            "fail\n",
            "fail\n",
            "maybe\n",
            "pass\n",
            "maybe\n",
            "fail\n",
            "maybe\n",
            "maybe\n",
            "pass\n",
            "maybe\n",
            "maybe\n",
            "pass\n",
            "maybe\n",
            "fail\n",
            "maybe\n",
            "maybe\n",
            "fail\n",
            "pass\n",
            "maybe\n",
            "maybe\n",
            "pass\n",
            "------CLASSIFICATION RESLUTS END------\n"
          ]
        }
      ]
    },
    {
      "cell_type": "code",
      "source": [],
      "metadata": {
        "id": "KIoGz1evz3WZ"
      },
      "execution_count": null,
      "outputs": []
    }
  ]
}