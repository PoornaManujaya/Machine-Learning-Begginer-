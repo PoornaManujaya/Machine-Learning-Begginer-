{
  "nbformat": 4,
  "nbformat_minor": 0,
  "metadata": {
    "colab": {
      "provenance": [],
      "authorship_tag": "ABX9TyPd6k4oBQbpHVzELNQXAoUB",
      "include_colab_link": true
    },
    "kernelspec": {
      "name": "python3",
      "display_name": "Python 3"
    },
    "language_info": {
      "name": "python"
    }
  },
  "cells": [
    {
      "cell_type": "markdown",
      "metadata": {
        "id": "view-in-github",
        "colab_type": "text"
      },
      "source": [
        "<a href=\"https://colab.research.google.com/github/PoornaManujaya/Machine-Learning-Begginer-/blob/main/Hand_Written_Digits_Recognision.ipynb\" target=\"_parent\"><img src=\"https://colab.research.google.com/assets/colab-badge.svg\" alt=\"Open In Colab\"/></a>"
      ]
    },
    {
      "cell_type": "code",
      "execution_count": 1,
      "metadata": {
        "id": "1-20PlmdJEJR",
        "colab": {
          "base_uri": "https://localhost:8080/"
        },
        "outputId": "40f1ac5e-2403-472d-b517-110acae955ba"
      },
      "outputs": [
        {
          "output_type": "stream",
          "name": "stdout",
          "text": [
            "Downloading data from https://storage.googleapis.com/tensorflow/tf-keras-datasets/mnist.npz\n",
            "11490434/11490434 [==============================] - 0s 0us/step\n"
          ]
        }
      ],
      "source": [
        "import tensorflow as tf #deep learning library. Tesnsors are multi-dimentional arrays\n",
        "\n",
        "mnist = tf.keras.datasets.mnist #mnist is dataset of 28x28 of images of handwritten digits and their labels\n",
        "(X_train, y_train),(X_test, y_test) = mnist.load_data() #unpacks images to datasets\n",
        "\n",
        "#scales between 0 and 1\n",
        "X_train = tf.keras.utils.normalize(X_train, axis=1)\n",
        "X_test = tf.keras.utils.normalize(X_test, axis=1)"
      ]
    },
    {
      "cell_type": "code",
      "source": [
        "#A sequentail model is what we're going to use the most of the time. It just means things are going to do in direct order.\n",
        "#A feed forward model. No going backwards...for now.\n",
        "model = tf.keras.models.Sequential()"
      ],
      "metadata": {
        "id": "ZqwH_TIBKv0n"
      },
      "execution_count": 3,
      "outputs": []
    },
    {
      "cell_type": "code",
      "source": [
        "model.add(tf.keras.layers.Flatten()) #takes 28x28 and makes 1x784"
      ],
      "metadata": {
        "id": "njs5YA2JLIEw"
      },
      "execution_count": 4,
      "outputs": []
    },
    {
      "cell_type": "code",
      "source": [
        "from keras.activations import softmax\n",
        "#This layer has 128 units. The activation function is relu, short for rectified linear.\n",
        "#Currently relu is the activation function as default\n",
        "#Adding two dense layers\n",
        "model.add(tf.keras.layers.Dense(128,activation=tf.nn.relu)) #simple fully connected layer, 128 layers, relu activated\n",
        "model.add(tf.keras.layers.Dense(128,activation=tf.nn.relu))\n",
        "\n",
        "#Adding final layer\n",
        "#1 node per possuble number prediction (Here we have to predict 0-9 numbers. Hence we need 10 layers)\n",
        "#In this case, our activation function is softwmax function. since we are really actually looking for something more 1.\n",
        "#Softmax is an activation function that scales numbers/logits into probabilities. The output of a Softmax is a vector (say v ) with probabilities of each possible outcome. The probabilities in vector v sums to one for all possible outcomes or classes.\n",
        "model.add(tf.keras.layers.Dense(10,activation=tf.nn.softmax)) #our output layer. 10 units for 10 classes."
      ],
      "metadata": {
        "id": "9VCgiA61LZIx"
      },
      "execution_count": 5,
      "outputs": []
    },
    {
      "cell_type": "code",
      "source": [
        "model.compile(\n",
        "    optimizer=\"adam\", #Good default optimizer to go with\n",
        "    loss=\"sparse_categorical_crossentropy\", #calculates error\n",
        "    metrics=[\"accuracy\"]) #what to track"
      ],
      "metadata": {
        "id": "1HyHgp62Qowj"
      },
      "execution_count": 6,
      "outputs": []
    },
    {
      "cell_type": "code",
      "source": [
        "model.fit(X_train,y_train, epochs=3) #trains the model"
      ],
      "metadata": {
        "colab": {
          "base_uri": "https://localhost:8080/"
        },
        "id": "jgZbFb3LRtYL",
        "outputId": "f9bb30db-f3a6-4e30-eb54-2904b25902f8"
      },
      "execution_count": 7,
      "outputs": [
        {
          "output_type": "stream",
          "name": "stdout",
          "text": [
            "Epoch 1/3\n",
            "1875/1875 [==============================] - 6s 3ms/step - loss: 0.2617 - accuracy: 0.9228\n",
            "Epoch 2/3\n",
            "1875/1875 [==============================] - 4s 2ms/step - loss: 0.1044 - accuracy: 0.9679\n",
            "Epoch 3/3\n",
            "1875/1875 [==============================] - 5s 3ms/step - loss: 0.0715 - accuracy: 0.9774\n"
          ]
        },
        {
          "output_type": "execute_result",
          "data": {
            "text/plain": [
              "<keras.callbacks.History at 0x7f0f8c32a4a0>"
            ]
          },
          "metadata": {},
          "execution_count": 7
        }
      ]
    },
    {
      "cell_type": "code",
      "source": [
        "val_loss, val_acc = model.evaluate(X_test,y_test) #evaluate the model with sample data\n",
        "print(val_loss)\n",
        "print(val_acc)\n",
        "\n",
        "model.save(\"Epic_Number_Reader.model\")\n",
        "\n",
        "new_model = tf.keras.models.load_model(\"Epic_Number_Reader.model\")\n",
        "\n",
        "predictions = new_model.predict(X_test)\n",
        "print(predictions)"
      ],
      "metadata": {
        "id": "kdxdflryR16J",
        "colab": {
          "base_uri": "https://localhost:8080/"
        },
        "outputId": "851659e4-c026-4389-f93f-483e3d5992bc"
      },
      "execution_count": 8,
      "outputs": [
        {
          "output_type": "stream",
          "name": "stdout",
          "text": [
            "313/313 [==============================] - 1s 1ms/step - loss: 0.0877 - accuracy: 0.9723\n",
            "0.08766847103834152\n",
            "0.9722999930381775\n"
          ]
        },
        {
          "output_type": "stream",
          "name": "stderr",
          "text": [
            "WARNING:absl:Found untraced functions such as _update_step_xla while saving (showing 1 of 1). These functions will not be directly callable after loading.\n"
          ]
        },
        {
          "output_type": "stream",
          "name": "stdout",
          "text": [
            "313/313 [==============================] - 0s 1ms/step\n",
            "[[1.8438843e-08 1.3254327e-08 2.1797246e-06 ... 9.9998766e-01\n",
            "  3.7809379e-08 2.7102701e-06]\n",
            " [1.1321904e-08 1.8321540e-05 9.9965996e-01 ... 1.1036763e-09\n",
            "  3.5590585e-08 2.3503069e-13]\n",
            " [8.9050849e-07 9.9924463e-01 2.4410992e-05 ... 1.0535280e-04\n",
            "  5.1047781e-04 1.5605499e-06]\n",
            " ...\n",
            " [5.6191962e-09 1.9114178e-07 7.0544930e-09 ... 1.4114385e-05\n",
            "  2.1617427e-06 1.5253307e-04]\n",
            " [1.5949347e-05 3.0744152e-06 7.2884194e-07 ... 2.0492328e-06\n",
            "  1.8648634e-02 5.3679662e-07]\n",
            " [2.2804927e-06 7.2077910e-10 5.9249117e-09 ... 4.8233681e-11\n",
            "  2.4444716e-07 2.1927171e-09]]\n"
          ]
        }
      ]
    },
    {
      "cell_type": "code",
      "source": [
        "#Testing data\n",
        "import numpy as np\n",
        "print(np.argmax(predictions[7]))"
      ],
      "metadata": {
        "colab": {
          "base_uri": "https://localhost:8080/"
        },
        "id": "ANrt_5eT35z9",
        "outputId": "327c209d-368a-4379-8558-82a2e6913f4a"
      },
      "execution_count": 22,
      "outputs": [
        {
          "output_type": "stream",
          "name": "stdout",
          "text": [
            "9\n"
          ]
        }
      ]
    },
    {
      "cell_type": "code",
      "source": [
        "import matplotlib.pyplot as plt\n",
        "plt.imshow(X_test[7],cmap=plt.cm.binary)\n",
        "plt.show()"
      ],
      "metadata": {
        "colab": {
          "base_uri": "https://localhost:8080/",
          "height": 430
        },
        "id": "SwDmJmQg47x8",
        "outputId": "5d0b5234-b41f-442d-b727-8ac97c0e4cb7"
      },
      "execution_count": 16,
      "outputs": [
        {
          "output_type": "display_data",
          "data": {
            "text/plain": [
              "<Figure size 640x480 with 1 Axes>"
            ],
            "image/png": "[encoded data removed]"
          },
          "metadata": {}
        }
      ]
    },
    {
      "cell_type": "code",
      "source": [
        "print(np.argmax(predictions[99]))\n",
        "plt.imshow(X_test[99],cmap=plt.cm.binary)\n",
        "plt.show()"
      ],
      "metadata": {
        "colab": {
          "base_uri": "https://localhost:8080/",
          "height": 447
        },
        "id": "UYlkkWYz55kG",
        "outputId": "210c59f6-664c-4632-b204-95d4b383bc65"
      },
      "execution_count": 24,
      "outputs": [
        {
          "output_type": "stream",
          "name": "stdout",
          "text": [
            "9\n"
          ]
        },
        {
          "output_type": "display_data",
          "data": {
            "text/plain": [
              "<Figure size 640x480 with 1 Axes>"
            ],
            "image/png": "[encoded data removed]"
          },
          "metadata": {}
        }
      ]
    },
    {
      "cell_type": "code",
      "source": [],
      "metadata": {
        "id": "JgNCy5iX6nWu"
      },
      "execution_count": null,
      "outputs": []
    }
  ]
}